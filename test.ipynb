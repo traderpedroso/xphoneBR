{
 "cells": [
  {
   "cell_type": "code",
   "execution_count": null,
   "metadata": {},
   "outputs": [],
   "source": [
    "import sys\n",
    "\n",
    "# Adicione o caminho absoluto ao sys.path\n",
    "sys.path.append('/Users/emersonpedroso/projects/TTS/PhonemizerBR/phonemizerbr')\n",
    "\n",
    "from deep_phonebr import normalizer\n",
    "normalizer(\" Dra. tenho 45% da & cia empresa as 00:40 da manha de quinta feira etc.  \")"
   ]
  },
  {
   "cell_type": "code",
   "execution_count": null,
   "metadata": {},
   "outputs": [],
   "source": [
    "from phonebr import normalizer"
   ]
  },
  {
   "cell_type": "code",
   "execution_count": null,
   "metadata": {},
   "outputs": [],
   "source": [
    "normalizer(\" Dra. tenho 45% da & cia empresa as 00:40 da manha de quinta feira etc.  \")"
   ]
  },
  {
   "cell_type": "code",
   "execution_count": null,
   "metadata": {},
   "outputs": [],
   "source": [
    "from xphonebr import Phonemizer, normalizer\n",
    "\n",
    "\n",
    "phones = Phonemizer(normalizer=True)\n"
   ]
  },
  {
   "cell_type": "code",
   "execution_count": null,
   "metadata": {},
   "outputs": [],
   "source": [
    "phones.process_text(\"\"\"Você já se perguntou como conquistar a atenção e o respeito das pessoas ao seu redor? Descubra a chave para transformar suas palavras em poder e influência!\" Imagine entrar em uma sala e todos imediatamente se voltarem para você, atentos ao que você tem a dizer. Para uma personalidade carismática, dominar a arte da persuasão é como ter um superpoder. Mas o que realmente faz alguém ser persuasivo? Você já tentou convencer alguém de algo importante e falhou? Isso acontece porque a persuasão é uma combinação de carisma, confiança e técnica. Saber como estruturar suas palavras, utilizar o tom certo e entender o momento ideal para falar pode ser a diferença entre ser ouvido ou ignorado. A chave para a persuasão está na técnica e no entendimento do comportamento humano. Ao aprender a arte da persuasão, você será capaz de influenciar decisões, conquistar admiradores e transformar situações a seu favor. Não perca mais tempo sendo mal interpretado ou ignorado. Clique no link e descubra como transformar suas palavras em poder e influência. A oportunidade de mudar a forma como você se comunica está a um clique de distância. Faça parte dos que sabem usar a arte da persuasão a seu favor\"\"\")\n"
   ]
  },
  {
   "cell_type": "code",
   "execution_count": null,
   "metadata": {},
   "outputs": [],
   "source": [
    "import torch\n",
    "torch.backends.mps.is_available()"
   ]
  }
 ],
 "metadata": {
  "kernelspec": {
   "display_name": "melotts",
   "language": "python",
   "name": "python3"
  },
  "language_info": {
   "codemirror_mode": {
    "name": "ipython",
    "version": 3
   },
   "file_extension": ".py",
   "mimetype": "text/x-python",
   "name": "python",
   "nbconvert_exporter": "python",
   "pygments_lexer": "ipython3",
   "version": "3.10.14"
  }
 },
 "nbformat": 4,
 "nbformat_minor": 2
}
